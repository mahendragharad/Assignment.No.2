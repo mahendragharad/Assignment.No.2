{
  "nbformat": 4,
  "nbformat_minor": 0,
  "metadata": {
    "colab": {
      "provenance": []
    },
    "kernelspec": {
      "name": "python3",
      "display_name": "Python 3"
    },
    "language_info": {
      "name": "python"
    }
  },
  "cells": [
    {
      "cell_type": "markdown",
      "source": [
        "###**control flow and conditional statements**\n",
        "\n",
        "**Question No.1 ANS :=** \n",
        "\n",
        "**Q1. Find the largest number from the given list, use for loop.**\n",
        "\n",
        "numbers = [12, 75, 150, 180, 145, 525, 50, 78678, 237833]"
      ],
      "metadata": {
        "id": "jQF5NyI1Z3UZ"
      }
    },
    {
      "cell_type": "code",
      "execution_count": 5,
      "metadata": {
        "colab": {
          "base_uri": "https://localhost:8080/"
        },
        "id": "g0or5gp5ZzAw",
        "outputId": "0b767b24-6bbc-4aac-e7f3-fad09cbf09f6"
      },
      "outputs": [
        {
          "output_type": "stream",
          "name": "stdout",
          "text": [
            "largest number of the list : 237833 \n"
          ]
        }
      ],
      "source": [
        "#  ANS = \n",
        "A = [12, 75, 150, 180, 145, 525, 50, 78678, 237833]\n",
        "\n",
        "largest_num = 0 \n",
        "\n",
        "for num in A :\n",
        "   if num > largest_num :\n",
        "     largest_num = num \n",
        "\n",
        "\n",
        "print(f\"largest number of the list : {largest_num} \")"
      ]
    },
    {
      "cell_type": "markdown",
      "source": [
        "--------------------------------------------------------------------------------"
      ],
      "metadata": {
        "id": "_oUvTqrUbcN2"
      }
    },
    {
      "cell_type": "markdown",
      "source": [
        "**Question No.2 ANS :=** \n",
        "\n",
        "**Q2. Print all the even number between (1, 12).**"
      ],
      "metadata": {
        "id": "Hdt_u8K6bfcG"
      }
    },
    {
      "cell_type": "code",
      "source": [
        "#  ANS = \n",
        "\n",
        "A = [1,2,3,4,5,6,7,8,9,10,11,12]\n",
        "\n",
        "for i in A :\n",
        "  if i % 2 == 0 :\n",
        "    print(i)\n",
        "  "
      ],
      "metadata": {
        "colab": {
          "base_uri": "https://localhost:8080/"
        },
        "id": "CLKfNGr1a-eS",
        "outputId": "467a2941-6ef5-4982-9af0-4a9b3f44c36d"
      },
      "execution_count": 12,
      "outputs": [
        {
          "output_type": "stream",
          "name": "stdout",
          "text": [
            "2\n",
            "4\n",
            "6\n",
            "8\n",
            "10\n",
            "12\n"
          ]
        }
      ]
    },
    {
      "cell_type": "markdown",
      "source": [
        "--------------------------------------------------------------------------------"
      ],
      "metadata": {
        "id": "VaG0nm6LcuRs"
      }
    },
    {
      "cell_type": "markdown",
      "source": [
        "**Question No.3 ANS :=**\n",
        "\n",
        "**Q3. Calculate the sum of all numbers from 1 to a given number**"
      ],
      "metadata": {
        "id": "S9ZhY81tc2hB"
      }
    },
    {
      "cell_type": "code",
      "source": [
        "num = int(input(\"enter the range \"))\n",
        "total_sum = 0 \n",
        "for i in range( 1 , num+1 ) :\n",
        "  total_sum = total_sum + i \n",
        "\n",
        "\n",
        "  print(total_sum)"
      ],
      "metadata": {
        "colab": {
          "base_uri": "https://localhost:8080/"
        },
        "id": "5rcCZOjOceZR",
        "outputId": "b4f697ea-3098-4599-e88b-3a5a174776aa"
      },
      "execution_count": 17,
      "outputs": [
        {
          "output_type": "stream",
          "name": "stdout",
          "text": [
            "enter the range 10\n",
            "1\n",
            "3\n",
            "6\n",
            "10\n",
            "15\n",
            "21\n",
            "28\n",
            "36\n",
            "45\n",
            "55\n"
          ]
        }
      ]
    },
    {
      "cell_type": "markdown",
      "source": [
        "--------------------------------------------------------------------------------"
      ],
      "metadata": {
        "id": "8gezVJDjfJ6q"
      }
    },
    {
      "cell_type": "markdown",
      "source": [
        "**Question No.4 ANS :=**\n",
        "\n",
        "**Q4. Write a program to display only those numbers from a list that satisfy the following conditions**\n",
        "\n",
        "* The number must be divisible by five\n",
        "\n",
        "* If the number is greater than 150, then skip it and move to the next number\n",
        "\n",
        "* If the number is greater than 500, then stop the loop\n",
        "\n",
        " \n",
        " * Given list  :\n",
        "\n",
        "  * numbers = [12, 75, 150, 180, 145, 525, 50]"
      ],
      "metadata": {
        "id": "2qHcAJvYfbVh"
      }
    },
    {
      "cell_type": "code",
      "source": [
        "# The number must be divisible by five\n",
        "numbers = [12, 75, 150, 180, 145, 525, 50]\n",
        "\n",
        "for i in numbers:\n",
        "    if i % 5 == 0:\n",
        "        if i > 150:\n",
        "            continue\n",
        "            if i > 500:\n",
        "                break\n",
        "        print(i)\n"
      ],
      "metadata": {
        "colab": {
          "base_uri": "https://localhost:8080/"
        },
        "id": "Xl0peE8Gewrv",
        "outputId": "7a3c1c6a-8120-4bc0-f207-d5bf8839b1d6"
      },
      "execution_count": 23,
      "outputs": [
        {
          "output_type": "stream",
          "name": "stdout",
          "text": [
            "75\n",
            "150\n",
            "145\n",
            "50\n"
          ]
        }
      ]
    },
    {
      "cell_type": "markdown",
      "source": [
        "--------------------------------------------------------------------------------"
      ],
      "metadata": {
        "id": "6VdcWs7UiSpD"
      }
    },
    {
      "cell_type": "markdown",
      "source": [
        "**Question No.5 ANS :=** \n",
        "\n",
        "**Q5. Print the given list in reverse order.**\n",
        "\n",
        "* list1 = [10, 20, 30, 40, 50]"
      ],
      "metadata": {
        "id": "HkoOrxdCiZlL"
      }
    },
    {
      "cell_type": "code",
      "source": [
        "list1 = [10, 20, 30, 40, 50]\n",
        "\n",
        "list1[::-1]"
      ],
      "metadata": {
        "colab": {
          "base_uri": "https://localhost:8080/"
        },
        "id": "I3CK_u38hWXr",
        "outputId": "f92b44f6-bc66-46f1-b11f-fd599ae91f70"
      },
      "execution_count": 24,
      "outputs": [
        {
          "output_type": "execute_result",
          "data": {
            "text/plain": [
              "[50, 40, 30, 20, 10]"
            ]
          },
          "metadata": {},
          "execution_count": 24
        }
      ]
    },
    {
      "cell_type": "markdown",
      "source": [
        "--------------------------------------------------------------------------------"
      ],
      "metadata": {
        "id": "mR8qn_esisXp"
      }
    },
    {
      "cell_type": "code",
      "source": [],
      "metadata": {
        "id": "hTwSYpIsip_o"
      },
      "execution_count": null,
      "outputs": []
    }
  ]
}